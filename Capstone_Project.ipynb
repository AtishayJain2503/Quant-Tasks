{
  "nbformat": 4,
  "nbformat_minor": 0,
  "metadata": {
    "colab": {
      "provenance": [],
      "gpuType": "T4"
    },
    "kernelspec": {
      "name": "python3",
      "display_name": "Python 3"
    },
    "language_info": {
      "name": "python"
    },
    "accelerator": "GPU"
  },
  "cells": [
    {
      "cell_type": "markdown",
      "source": [],
      "metadata": {
        "id": "A5JikCRWgCag"
      }
    },
    {
      "cell_type": "code",
      "source": [
        "import numpy as np\n",
        "import pandas as pd\n",
        "import yfinance as yf\n",
        "import tensorflow as tf\n",
        "from tensorflow.keras import layers, models, optimizers\n",
        "from sklearn.cluster import KMeans\n",
        "import gym\n",
        "from gym import spaces\n",
        "import random\n",
        "from collections import deque\n",
        "import matplotlib.pyplot as plt\n"
      ],
      "metadata": {
        "id": "SrNiA2Qdmu4P"
      },
      "execution_count": null,
      "outputs": []
    },
    {
      "cell_type": "code",
      "source": [
        "ticker = 'AAPL'\n",
        "data = yf.download(ticker, start='2018-01-01', end='2021-12-31')\n",
        "prices = data['Close'].values"
      ],
      "metadata": {
        "colab": {
          "base_uri": "https://localhost:8080/"
        },
        "id": "7O6rCIOfmzd8",
        "outputId": "15e55627-d7ee-4e08-ca6d-1439f030d233"
      },
      "execution_count": null,
      "outputs": [
        {
          "output_type": "stream",
          "name": "stdout",
          "text": [
            "YF.download() has changed argument auto_adjust default to True\n"
          ]
        },
        {
          "output_type": "stream",
          "name": "stderr",
          "text": [
            "\r[*********************100%***********************]  1 of 1 completed\n"
          ]
        }
      ]
    },
    {
      "cell_type": "code",
      "source": [
        "window = 10"
      ],
      "metadata": {
        "id": "668hDrkVm3ol"
      },
      "execution_count": null,
      "outputs": []
    },
    {
      "cell_type": "code",
      "source": [
        "# We create features such that each sample is the previous 'window' days of prices.\n",
        "# Also, we compute the next-day return as the reward.\n",
        "features = np.array([prices[i-window:i] for i in range(window, len(prices)-1)])\n",
        "returns = np.array([(prices[i+1] - prices[i]) / prices[i] for i in range(window, len(prices)-1)])\n",
        "\n",
        "n_samples = features.shape[0]\n",
        "features = features.reshape(features.shape[0], features.shape[1])\n",
        "\n",
        "print(\"Feature shape:\", features.shape)\n",
        "print(\"Returns shape:\", returns.shape)\n"
      ],
      "metadata": {
        "colab": {
          "base_uri": "https://localhost:8080/"
        },
        "id": "jTpXs2Fzm5qX",
        "outputId": "14343b20-160c-4d4e-cd37-7b6e2047b8ba"
      },
      "execution_count": null,
      "outputs": [
        {
          "output_type": "stream",
          "name": "stdout",
          "text": [
            "Feature shape: (996, 10)\n",
            "Returns shape: (996, 1)\n"
          ]
        }
      ]
    },
    {
      "cell_type": "code",
      "source": [
        "latent_dim = 2\n",
        "input_dim = features.shape[1]\n",
        "\n",
        "# Build a simple dense autoencoder\n",
        "input_layer = layers.Input(shape=(input_dim,))\n",
        "encoded = layers.Dense(8, activation='relu')(input_layer)\n",
        "encoded = layers.Dense(latent_dim, activation='linear')(encoded)\n",
        "\n",
        "decoded = layers.Dense(8, activation='relu')(encoded)\n",
        "decoded = layers.Dense(input_dim, activation='linear')(decoded)\n",
        "\n",
        "autoencoder = models.Model(inputs=input_layer, outputs=decoded)\n",
        "encoder = models.Model(inputs=input_layer, outputs=encoded)\n",
        "\n",
        "autoencoder.compile(optimizer='adam', loss='mse')\n",
        "autoencoder.summary()\n",
        "\n",
        "# Train the autoencoder\n",
        "history = autoencoder.fit(features, features,\n",
        "                          epochs=50,\n",
        "                          batch_size=32,\n",
        "                          shuffle=True,\n",
        "                          verbose=0)\n",
        "\n",
        "# Extract latent representations for all samples\n",
        "latent_features = encoder.predict(features)\n",
        "print(\"Latent features shape:\", latent_features.shape)\n"
      ],
      "metadata": {
        "colab": {
          "base_uri": "https://localhost:8080/",
          "height": 337
        },
        "id": "UNoiwhd5m99K",
        "outputId": "0349d4fb-03b9-43f4-a5a6-ee8cc4c00314"
      },
      "execution_count": null,
      "outputs": [
        {
          "output_type": "display_data",
          "data": {
            "text/plain": [
              "\u001b[1mModel: \"functional\"\u001b[0m\n"
            ],
            "text/html": [
              "<pre style=\"white-space:pre;overflow-x:auto;line-height:normal;font-family:Menlo,'DejaVu Sans Mono',consolas,'Courier New',monospace\"><span style=\"font-weight: bold\">Model: \"functional\"</span>\n",
              "</pre>\n"
            ]
          },
          "metadata": {}
        },
        {
          "output_type": "display_data",
          "data": {
            "text/plain": [
              "┏━━━━━━━━━━━━━━━━━━━━━━━━━━━━━━━━━━━━━━┳━━━━━━━━━━━━━━━━━━━━━━━━━━━━━┳━━━━━━━━━━━━━━━━━┓\n",
              "┃\u001b[1m \u001b[0m\u001b[1mLayer (type)                        \u001b[0m\u001b[1m \u001b[0m┃\u001b[1m \u001b[0m\u001b[1mOutput Shape               \u001b[0m\u001b[1m \u001b[0m┃\u001b[1m \u001b[0m\u001b[1m        Param #\u001b[0m\u001b[1m \u001b[0m┃\n",
              "┡━━━━━━━━━━━━━━━━━━━━━━━━━━━━━━━━━━━━━━╇━━━━━━━━━━━━━━━━━━━━━━━━━━━━━╇━━━━━━━━━━━━━━━━━┩\n",
              "│ input_layer (\u001b[38;5;33mInputLayer\u001b[0m)             │ (\u001b[38;5;45mNone\u001b[0m, \u001b[38;5;34m10\u001b[0m)                  │               \u001b[38;5;34m0\u001b[0m │\n",
              "├──────────────────────────────────────┼─────────────────────────────┼─────────────────┤\n",
              "│ dense (\u001b[38;5;33mDense\u001b[0m)                        │ (\u001b[38;5;45mNone\u001b[0m, \u001b[38;5;34m8\u001b[0m)                   │              \u001b[38;5;34m88\u001b[0m │\n",
              "├──────────────────────────────────────┼─────────────────────────────┼─────────────────┤\n",
              "│ dense_1 (\u001b[38;5;33mDense\u001b[0m)                      │ (\u001b[38;5;45mNone\u001b[0m, \u001b[38;5;34m2\u001b[0m)                   │              \u001b[38;5;34m18\u001b[0m │\n",
              "├──────────────────────────────────────┼─────────────────────────────┼─────────────────┤\n",
              "│ dense_2 (\u001b[38;5;33mDense\u001b[0m)                      │ (\u001b[38;5;45mNone\u001b[0m, \u001b[38;5;34m8\u001b[0m)                   │              \u001b[38;5;34m24\u001b[0m │\n",
              "├──────────────────────────────────────┼─────────────────────────────┼─────────────────┤\n",
              "│ dense_3 (\u001b[38;5;33mDense\u001b[0m)                      │ (\u001b[38;5;45mNone\u001b[0m, \u001b[38;5;34m10\u001b[0m)                  │              \u001b[38;5;34m90\u001b[0m │\n",
              "└──────────────────────────────────────┴─────────────────────────────┴─────────────────┘\n"
            ],
            "text/html": [
              "<pre style=\"white-space:pre;overflow-x:auto;line-height:normal;font-family:Menlo,'DejaVu Sans Mono',consolas,'Courier New',monospace\">┏━━━━━━━━━━━━━━━━━━━━━━━━━━━━━━━━━━━━━━┳━━━━━━━━━━━━━━━━━━━━━━━━━━━━━┳━━━━━━━━━━━━━━━━━┓\n",
              "┃<span style=\"font-weight: bold\"> Layer (type)                         </span>┃<span style=\"font-weight: bold\"> Output Shape                </span>┃<span style=\"font-weight: bold\">         Param # </span>┃\n",
              "┡━━━━━━━━━━━━━━━━━━━━━━━━━━━━━━━━━━━━━━╇━━━━━━━━━━━━━━━━━━━━━━━━━━━━━╇━━━━━━━━━━━━━━━━━┩\n",
              "│ input_layer (<span style=\"color: #0087ff; text-decoration-color: #0087ff\">InputLayer</span>)             │ (<span style=\"color: #00d7ff; text-decoration-color: #00d7ff\">None</span>, <span style=\"color: #00af00; text-decoration-color: #00af00\">10</span>)                  │               <span style=\"color: #00af00; text-decoration-color: #00af00\">0</span> │\n",
              "├──────────────────────────────────────┼─────────────────────────────┼─────────────────┤\n",
              "│ dense (<span style=\"color: #0087ff; text-decoration-color: #0087ff\">Dense</span>)                        │ (<span style=\"color: #00d7ff; text-decoration-color: #00d7ff\">None</span>, <span style=\"color: #00af00; text-decoration-color: #00af00\">8</span>)                   │              <span style=\"color: #00af00; text-decoration-color: #00af00\">88</span> │\n",
              "├──────────────────────────────────────┼─────────────────────────────┼─────────────────┤\n",
              "│ dense_1 (<span style=\"color: #0087ff; text-decoration-color: #0087ff\">Dense</span>)                      │ (<span style=\"color: #00d7ff; text-decoration-color: #00d7ff\">None</span>, <span style=\"color: #00af00; text-decoration-color: #00af00\">2</span>)                   │              <span style=\"color: #00af00; text-decoration-color: #00af00\">18</span> │\n",
              "├──────────────────────────────────────┼─────────────────────────────┼─────────────────┤\n",
              "│ dense_2 (<span style=\"color: #0087ff; text-decoration-color: #0087ff\">Dense</span>)                      │ (<span style=\"color: #00d7ff; text-decoration-color: #00d7ff\">None</span>, <span style=\"color: #00af00; text-decoration-color: #00af00\">8</span>)                   │              <span style=\"color: #00af00; text-decoration-color: #00af00\">24</span> │\n",
              "├──────────────────────────────────────┼─────────────────────────────┼─────────────────┤\n",
              "│ dense_3 (<span style=\"color: #0087ff; text-decoration-color: #0087ff\">Dense</span>)                      │ (<span style=\"color: #00d7ff; text-decoration-color: #00d7ff\">None</span>, <span style=\"color: #00af00; text-decoration-color: #00af00\">10</span>)                  │              <span style=\"color: #00af00; text-decoration-color: #00af00\">90</span> │\n",
              "└──────────────────────────────────────┴─────────────────────────────┴─────────────────┘\n",
              "</pre>\n"
            ]
          },
          "metadata": {}
        },
        {
          "output_type": "display_data",
          "data": {
            "text/plain": [
              "\u001b[1m Total params: \u001b[0m\u001b[38;5;34m220\u001b[0m (880.00 B)\n"
            ],
            "text/html": [
              "<pre style=\"white-space:pre;overflow-x:auto;line-height:normal;font-family:Menlo,'DejaVu Sans Mono',consolas,'Courier New',monospace\"><span style=\"font-weight: bold\"> Total params: </span><span style=\"color: #00af00; text-decoration-color: #00af00\">220</span> (880.00 B)\n",
              "</pre>\n"
            ]
          },
          "metadata": {}
        },
        {
          "output_type": "display_data",
          "data": {
            "text/plain": [
              "\u001b[1m Trainable params: \u001b[0m\u001b[38;5;34m220\u001b[0m (880.00 B)\n"
            ],
            "text/html": [
              "<pre style=\"white-space:pre;overflow-x:auto;line-height:normal;font-family:Menlo,'DejaVu Sans Mono',consolas,'Courier New',monospace\"><span style=\"font-weight: bold\"> Trainable params: </span><span style=\"color: #00af00; text-decoration-color: #00af00\">220</span> (880.00 B)\n",
              "</pre>\n"
            ]
          },
          "metadata": {}
        },
        {
          "output_type": "display_data",
          "data": {
            "text/plain": [
              "\u001b[1m Non-trainable params: \u001b[0m\u001b[38;5;34m0\u001b[0m (0.00 B)\n"
            ],
            "text/html": [
              "<pre style=\"white-space:pre;overflow-x:auto;line-height:normal;font-family:Menlo,'DejaVu Sans Mono',consolas,'Courier New',monospace\"><span style=\"font-weight: bold\"> Non-trainable params: </span><span style=\"color: #00af00; text-decoration-color: #00af00\">0</span> (0.00 B)\n",
              "</pre>\n"
            ]
          },
          "metadata": {}
        },
        {
          "output_type": "stream",
          "name": "stdout",
          "text": [
            "\u001b[1m32/32\u001b[0m \u001b[32m━━━━━━━━━━━━━━━━━━━━\u001b[0m\u001b[37m\u001b[0m \u001b[1m0s\u001b[0m 5ms/step\n",
            "Latent features shape: (996, 2)\n"
          ]
        }
      ]
    },
    {
      "cell_type": "code",
      "source": [
        "n_regimes = 3\n",
        "kmeans = KMeans(n_clusters=n_regimes, random_state=42)\n",
        "regime_labels = kmeans.fit_predict(latent_features)\n",
        "# Convert to one-hot vectors\n",
        "regime_onehot = np.eye(n_regimes)[regime_labels]\n",
        "\n",
        "# For visualization: Plot latent features colored by regime\n",
        "plt.figure(figsize=(8, 4))\n",
        "plt.scatter(latent_features[:, 0], latent_features[:, 1], c=regime_labels, cmap='viridis', s=20)\n",
        "plt.title(\"Latent Space with Regime Clusters\")\n",
        "plt.xlabel(\"Latent Dimension 1\")\n",
        "plt.ylabel(\"Latent Dimension 2\")\n",
        "plt.colorbar(label=\"Regime\")\n",
        "plt.show()"
      ],
      "metadata": {
        "colab": {
          "base_uri": "https://localhost:8080/",
          "height": 410
        },
        "id": "PmSgxPMonDWR",
        "outputId": "9baa4918-3941-4a34-87a8-edfc5118a228"
      },
      "execution_count": null,
      "outputs": [
        {
          "output_type": "display_data",
          "data": {
            "text/plain": [
              "<Figure size 800x400 with 2 Axes>"
            ],
            "image/png": "[encoded data removed]"
          },
          "metadata": {}
        }
      ]
    },
    {
      "cell_type": "code",
      "source": [
        "class TradingEnv(gym.Env):\n",
        "    \"\"\"\n",
        "    A basic trading environment.\n",
        "    Observation: [latent representation (2 dims) + regime one-hot (3 dims)] = 5 dims total.\n",
        "    Action space: Discrete(3) -> 0: hold, 1: long, 2: short.\n",
        "    Reward: based on the next day’s return.\n",
        "    \"\"\"\n",
        "    def __init__(self, latent_features, regime_onehot, returns):\n",
        "        super(TradingEnv, self).__init__()\n",
        "        self.latent_features = latent_features\n",
        "        self.regime_onehot = regime_onehot\n",
        "        self.returns = returns\n",
        "        self.n_steps = len(returns)\n",
        "        self.current_step = 0\n",
        "\n",
        "        # Observation space: 5-dimensional vector (latent_dim + n_regimes)\n",
        "        self.observation_space = spaces.Box(low=-np.inf, high=np.inf, shape=(latent_dim + n_regimes,), dtype=np.float32)\n",
        "        # Action space: 3 discrete actions: 0: hold, 1: long, 2: short.\n",
        "        self.action_space = spaces.Discrete(3)\n",
        "\n",
        "    def reset(self):\n",
        "        self.current_step = 0\n",
        "        return self._get_observation()\n",
        "\n",
        "    def _get_observation(self):\n",
        "        obs = np.concatenate([self.latent_features[self.current_step], self.regime_onehot[self.current_step]])\n",
        "        return obs.astype(np.float32)\n",
        "\n",
        "    def step(self, action):\n",
        "        # Calculate reward based on action and next day's return\n",
        "        ret = self.returns[self.current_step]\n",
        "        if action == 1:  # long\n",
        "            reward = ret\n",
        "        elif action == 2:  # short\n",
        "            reward = -ret\n",
        "        else:\n",
        "            reward = 0.0\n",
        "\n",
        "        self.current_step += 1\n",
        "        done = self.current_step >= self.n_steps\n",
        "        next_obs = self._get_observation() if not done else np.zeros(self.observation_space.shape)\n",
        "        return next_obs, reward, done, {}\n",
        "\n",
        "    def render(self, mode='human'):\n",
        "        pass\n",
        "\n",
        "# Initialize environment\n",
        "env = TradingEnv(latent_features, regime_onehot, returns)\n",
        "obs = env.reset()\n",
        "print(\"Initial observation:\", obs)"
      ],
      "metadata": {
        "colab": {
          "base_uri": "https://localhost:8080/"
        },
        "id": "3n1uqDmbnHDt",
        "outputId": "83bd39c1-2ca9-4556-8176-e4b1fd35fca4"
      },
      "execution_count": null,
      "outputs": [
        {
          "output_type": "stream",
          "name": "stdout",
          "text": [
            "Initial observation: [ -69.80446  -111.927704    1.          0.          0.      ]\n"
          ]
        }
      ]
    },
    {
      "cell_type": "code",
      "source": [
        "class DQNAgent:\n",
        "    def __init__(self, state_size, action_size):\n",
        "        self.state_size = state_size\n",
        "        self.action_size = action_size\n",
        "        self.gamma = 0.99  # discount factor\n",
        "        self.epsilon = 1.0  # exploration rate\n",
        "        self.epsilon_min = 0.05\n",
        "        self.epsilon_decay = 0.995\n",
        "        self.learning_rate = 0.001\n",
        "        self.batch_size = 32\n",
        "        self.memory = deque(maxlen=2000)\n",
        "\n",
        "        self.model = self._build_model()\n",
        "\n",
        "    def _build_model(self):\n",
        "        model = models.Sequential()\n",
        "        model.add(layers.Dense(16, input_dim=self.state_size, activation='relu'))\n",
        "        model.add(layers.Dense(16, activation='relu'))\n",
        "        model.add(layers.Dense(self.action_size, activation='linear'))\n",
        "        model.compile(loss='mse', optimizer=optimizers.Adam(learning_rate=self.learning_rate))\n",
        "        return model\n",
        "\n",
        "    def remember(self, state, action, reward, next_state, done):\n",
        "        self.memory.append((state, action, reward, next_state, done))\n",
        "\n",
        "    def act(self, state):\n",
        "        if np.random.rand() <= self.epsilon:\n",
        "            return random.randrange(self.action_size)\n",
        "        q_values = self.model.predict(state[np.newaxis, :], verbose=0)\n",
        "        return np.argmax(q_values[0])\n",
        "\n",
        "    def replay(self):\n",
        "        if len(self.memory) < self.batch_size:\n",
        "            return\n",
        "\n",
        "        minibatch = random.sample(self.memory, self.batch_size)\n",
        "        states = np.array([s for s, a, r, ns, d in minibatch])\n",
        "        targets = self.model.predict(states, verbose=0)\n",
        "\n",
        "        next_states = np.array([ns for s, a, r, ns, d in minibatch])\n",
        "        q_next = self.model.predict(next_states, verbose=0)\n",
        "\n",
        "        for i, (state, action, reward, next_state, done) in enumerate(minibatch):\n",
        "            if done:\n",
        "                targets[i][action] = reward\n",
        "            else:\n",
        "                targets[i][action] = reward + self.gamma * np.amax(q_next[i])\n",
        "        self.model.fit(states, targets, epochs=1, verbose=0)\n",
        "\n",
        "        if self.epsilon > self.epsilon_min:\n",
        "            self.epsilon *= self.epsilon_decay\n",
        "\n",
        "state_size = latent_dim + n_regimes  # 2 + 3 = 5\n",
        "action_size = env.action_space.n\n",
        "agent = DQNAgent(state_size, action_size)\n"
      ],
      "metadata": {
        "colab": {
          "base_uri": "https://localhost:8080/"
        },
        "id": "9HpZI4D9nNc0",
        "outputId": "7c8a5aba-c558-4a8f-ecee-3eb0c100585c"
      },
      "execution_count": null,
      "outputs": [
        {
          "output_type": "stream",
          "name": "stderr",
          "text": [
            "/usr/local/lib/python3.11/dist-packages/keras/src/layers/core/dense.py:87: UserWarning: Do not pass an `input_shape`/`input_dim` argument to a layer. When using Sequential models, prefer using an `Input(shape)` object as the first layer in the model instead.\n",
            "  super().__init__(activity_regularizer=activity_regularizer, **kwargs)\n"
          ]
        }
      ]
    },
    {
      "cell_type": "code",
      "execution_count": null,
      "metadata": {
        "colab": {
          "base_uri": "https://localhost:8080/",
          "height": 566
        },
        "id": "NZSiIF4YalZi",
        "outputId": "845b79e2-e02f-4fe1-9d41-c7a6560979bc"
      },
      "outputs": [
        {
          "output_type": "stream",
          "name": "stderr",
          "text": [
            "<ipython-input-8-bd3053b38480>:51: DeprecationWarning: Conversion of an array with ndim > 0 to a scalar is deprecated, and will error in future. Ensure you extract a single element from your array before performing this operation. (Deprecated NumPy 1.25.)\n",
            "  targets[i][action] = reward + self.gamma * np.amax(q_next[i])\n"
          ]
        },
        {
          "output_type": "stream",
          "name": "stdout",
          "text": [
            "Episode 1/7 - Total Reward: 0.3430 - Epsilon: 0.0499\n",
            "Episode 2/7 - Total Reward: -0.0828 - Epsilon: 0.0499\n",
            "Episode 3/7 - Total Reward: 0.1436 - Epsilon: 0.0499\n",
            "Episode 4/7 - Total Reward: 0.2876 - Epsilon: 0.0499\n",
            "Episode 5/7 - Total Reward: 0.7564 - Epsilon: 0.0499\n",
            "Episode 6/7 - Total Reward: 0.8101 - Epsilon: 0.0499\n",
            "Episode 7/7 - Total Reward: 0.0323 - Epsilon: 0.0499\n"
          ]
        },
        {
          "output_type": "display_data",
          "data": {
            "text/plain": [
              "<Figure size 800x400 with 1 Axes>"
            ],
            "image/png": "[encoded data removed]"
          },
          "metadata": {}
        }
      ],
      "source": [
        "episodes = 7\n",
        "reward_history = []\n",
        "\n",
        "for e in range(episodes):\n",
        "    state = env.reset()\n",
        "    total_reward = 0.0\n",
        "    done = False\n",
        "    while not done:\n",
        "        action = agent.act(state)\n",
        "        next_state, reward, done, _ = env.step(action)\n",
        "        agent.remember(state, action, reward, next_state, done)\n",
        "        state = next_state\n",
        "        total_reward += reward\n",
        "        agent.replay()\n",
        "    reward_history.append(total_reward)\n",
        "    print(f\"Episode {e+1}/{episodes} - Total Reward: {float(total_reward):.4f} - Epsilon: {agent.epsilon:.4f}\")\n",
        "\n",
        "# Plot episode rewards\n",
        "plt.figure(figsize=(8, 4))\n",
        "plt.plot(reward_history)\n",
        "plt.xlabel(\"Episode\")\n",
        "plt.ylabel(\"Total Reward\")\n",
        "plt.title(\"DQN Agent Training Rewards\")\n",
        "plt.show()\n"
      ]
    },
    {
      "cell_type": "code",
      "source": [
        "train_data = data.loc[:'2020-01-01']\n",
        "test_data = data.loc['2020-01-02':]\n",
        "\n",
        "# Use the adjusted close price (if auto_adjust=True, then 'Close' column)\n",
        "train_prices = train_data['Close'].values\n",
        "test_prices = test_data['Close'].values\n"
      ],
      "metadata": {
        "id": "hYM5ZVU_xP4u"
      },
      "execution_count": null,
      "outputs": []
    },
    {
      "cell_type": "code",
      "source": [
        "window = 10\n",
        "# Create features for test period\n",
        "test_features = np.array([test_prices[i-window:i] for i in range(window, len(test_prices)-1)])\n",
        "test_returns = np.array([(test_prices[i+1] - test_prices[i]) / test_prices[i]\n",
        "                          for i in range(window, len(test_prices)-1)])\n",
        "\n",
        "# If needed, reshape to remove extra dimensions (if shape is (n, window, 1))\n",
        "if test_features.ndim == 3 and test_features.shape[2] == 1:\n",
        "    test_features = test_features.reshape(test_features.shape[0], test_features.shape[1])"
      ],
      "metadata": {
        "id": "r5MADWtNxaKu"
      },
      "execution_count": null,
      "outputs": []
    },
    {
      "cell_type": "code",
      "source": [
        "latent_features_test = encoder.predict(test_features)\n",
        "# Use the same KMeans model to predict regimes on test data\n",
        "regime_labels_test = kmeans.predict(latent_features_test)\n",
        "regime_onehot_test = np.eye(n_regimes)[regime_labels_test]"
      ],
      "metadata": {
        "colab": {
          "base_uri": "https://localhost:8080/"
        },
        "id": "okT9UNTrxgTg",
        "outputId": "4ca5dd69-2781-489b-bdbc-dcdfc47f2ef7"
      },
      "execution_count": null,
      "outputs": [
        {
          "output_type": "stream",
          "name": "stdout",
          "text": [
            "\u001b[1m16/16\u001b[0m \u001b[32m━━━━━━━━━━━━━━━━━━━━\u001b[0m\u001b[37m\u001b[0m \u001b[1m0s\u001b[0m 20ms/step\n"
          ]
        }
      ]
    },
    {
      "cell_type": "code",
      "source": [
        "# -------------------------------\n",
        "# Extended Trading Environment with Transaction Costs & Leverage\n",
        "# -------------------------------\n",
        "class TradingEnvExtended(gym.Env):\n",
        "    \"\"\"\n",
        "    Extended trading environment that includes transaction costs and leverage.\n",
        "    Observation: [latent representation (2 dims) + regime one-hot (3 dims)] = 5 dims total.\n",
        "    Action space: Discrete(3) -> 0: hold, 1: long, 2: short.\n",
        "    Reward: next-day return (long/short), scaled by leverage and penalized by transaction cost on position changes.\n",
        "    \"\"\"\n",
        "    def __init__(self, latent_features, regime_onehot, returns, transaction_cost=0.0, leverage=1.0):\n",
        "        super(TradingEnvExtended, self).__init__()\n",
        "        self.latent_features = latent_features\n",
        "        self.regime_onehot = regime_onehot\n",
        "        self.returns = returns\n",
        "        self.n_steps = len(returns)\n",
        "        self.current_step = 0\n",
        "        self.transaction_cost = transaction_cost\n",
        "        self.leverage = leverage\n",
        "        self.prev_action = 0  # starting with 'hold'\n",
        "\n",
        "        self.observation_space = spaces.Box(low=-np.inf, high=np.inf,\n",
        "                                             shape=(latent_dim + n_regimes,), dtype=np.float32)\n",
        "        self.action_space = spaces.Discrete(3)\n",
        "\n",
        "    def reset(self):\n",
        "        self.current_step = 0\n",
        "        self.prev_action = 0\n",
        "        return self._get_observation()\n",
        "\n",
        "    def _get_observation(self):\n",
        "        obs = np.concatenate([self.latent_features[self.current_step],\n",
        "                              self.regime_onehot[self.current_step]])\n",
        "        return obs.astype(np.float32)\n",
        "\n",
        "    def step(self, action):\n",
        "        ret = self.returns[self.current_step]\n",
        "        # Apply leverage: effective return\n",
        "        effective_ret = self.leverage * ret\n",
        "\n",
        "        # Reward calculation based on action\n",
        "        if action == 1:  # long\n",
        "            reward = effective_ret\n",
        "        elif action == 2:  # short\n",
        "            reward = -effective_ret\n",
        "        else:\n",
        "            reward = 0.0\n",
        "\n",
        "        # Apply transaction cost if the action changes\n",
        "        if action != self.prev_action:\n",
        "            reward -= self.transaction_cost\n",
        "\n",
        "        self.prev_action = action\n",
        "        self.current_step += 1\n",
        "        done = self.current_step >= self.n_steps\n",
        "        next_obs = self._get_observation() if not done else np.zeros(self.observation_space.shape)\n",
        "        return next_obs, reward, done, {}\n",
        "\n",
        "    def render(self, mode='human'):\n",
        "        pass"
      ],
      "metadata": {
        "id": "U5OvOsPnxlCo"
      },
      "execution_count": null,
      "outputs": []
    },
    {
      "cell_type": "code",
      "source": [
        "# -------------------------------\n",
        "# Evaluate the Agent on Out-of-Sample Data\n",
        "# -------------------------------\n",
        "# Create out-of-sample environment (initially without transaction costs or leverage adjustments)\n",
        "test_env = TradingEnvExtended(latent_features_test, regime_onehot_test, test_returns,\n",
        "                              transaction_cost=0.0, leverage=1.0)\n",
        "\n",
        "def evaluate_agent(env, agent):\n",
        "    state = env.reset()\n",
        "    total_reward = 0.0\n",
        "    done = False\n",
        "    while not done:\n",
        "        action = agent.act(state)\n",
        "        next_state, reward, done, _ = env.step(action)\n",
        "        total_reward += reward\n",
        "        state = next_state\n",
        "    return total_reward\n",
        "\n",
        "test_reward = evaluate_agent(test_env, agent)\n",
        "print(\"Out-of-sample total reward (no transaction cost, leverage=1.0):\", test_reward)"
      ],
      "metadata": {
        "colab": {
          "base_uri": "https://localhost:8080/"
        },
        "id": "b05CVFrQxunx",
        "outputId": "b3dc34a5-6e7e-4c28-cabb-7065b9267cdd"
      },
      "execution_count": null,
      "outputs": [
        {
          "output_type": "stream",
          "name": "stdout",
          "text": [
            "Out-of-sample total reward (no transaction cost, leverage=1.0): [-0.84036216]\n"
          ]
        }
      ]
    },
    {
      "cell_type": "code",
      "source": [
        "tc_values = [0.0, 0.001, 0.005, 0.01]\n",
        "results_tc = {}\n",
        "print(\"\\nTransaction Cost Sensitivity Analysis:\")\n",
        "for tc in tc_values:\n",
        "    env_temp = TradingEnvExtended(latent_features_test, regime_onehot_test, test_returns,\n",
        "                                  transaction_cost=tc, leverage=1.0)\n",
        "    reward_tc = evaluate_agent(env_temp, agent)\n",
        "    results_tc[tc] = reward_tc\n",
        "    print(f\"Transaction cost {tc:.3f}: Total Reward = {float(reward_tc):.4f}\")\n"
      ],
      "metadata": {
        "colab": {
          "base_uri": "https://localhost:8080/"
        },
        "id": "WHpvslb7x3hJ",
        "outputId": "892cab5e-0559-4eb4-9ca4-26029fcd69f6"
      },
      "execution_count": null,
      "outputs": [
        {
          "output_type": "stream",
          "name": "stdout",
          "text": [
            "\n",
            "Transaction Cost Sensitivity Analysis:\n"
          ]
        },
        {
          "output_type": "stream",
          "name": "stderr",
          "text": [
            "<ipython-input-17-b99353236bd5>:9: DeprecationWarning: Conversion of an array with ndim > 0 to a scalar is deprecated, and will error in future. Ensure you extract a single element from your array before performing this operation. (Deprecated NumPy 1.25.)\n",
            "  print(f\"Transaction cost {tc:.3f}: Total Reward = {float(reward_tc):.4f}\")\n"
          ]
        },
        {
          "output_type": "stream",
          "name": "stdout",
          "text": [
            "Transaction cost 0.000: Total Reward = -0.5475\n",
            "Transaction cost 0.001: Total Reward = -0.4687\n",
            "Transaction cost 0.005: Total Reward = -0.8022\n",
            "Transaction cost 0.010: Total Reward = -1.2003\n"
          ]
        }
      ]
    },
    {
      "cell_type": "code",
      "source": [
        "lev_values = [0.5, 1.0, 2.0, 3.0]\n",
        "results_lev = {}\n",
        "print(\"\\nLeverage Sensitivity Analysis:\")\n",
        "for lev in lev_values:\n",
        "    env_temp = TradingEnvExtended(latent_features_test, regime_onehot_test, test_returns,\n",
        "                                  transaction_cost=0.0, leverage=lev)\n",
        "    reward_lev = evaluate_agent(env_temp, agent)\n",
        "    results_lev[lev] = reward_lev\n",
        "    print(f\"Leverage {lev:.1f}: Total Reward = {float(reward_lev):.4f}\")\n"
      ],
      "metadata": {
        "colab": {
          "base_uri": "https://localhost:8080/"
        },
        "id": "SwWoSR7Px7uL",
        "outputId": "82bc0b1e-8f67-4754-bedb-5277b0bd6ffb"
      },
      "execution_count": null,
      "outputs": [
        {
          "output_type": "stream",
          "name": "stdout",
          "text": [
            "\n",
            "Leverage Sensitivity Analysis:\n"
          ]
        },
        {
          "output_type": "stream",
          "name": "stderr",
          "text": [
            "<ipython-input-20-f69bd93cd463>:9: DeprecationWarning: Conversion of an array with ndim > 0 to a scalar is deprecated, and will error in future. Ensure you extract a single element from your array before performing this operation. (Deprecated NumPy 1.25.)\n",
            "  print(f\"Leverage {lev:.1f}: Total Reward = {float(reward_lev):.4f}\")\n"
          ]
        },
        {
          "output_type": "stream",
          "name": "stdout",
          "text": [
            "Leverage 0.5: Total Reward = -0.2536\n",
            "Leverage 1.0: Total Reward = -0.3962\n",
            "Leverage 2.0: Total Reward = -1.1695\n",
            "Leverage 3.0: Total Reward = -0.8981\n"
          ]
        }
      ]
    },
    {
      "cell_type": "code",
      "source": [
        "benchmark_cumulative_return = np.prod(1 + test_returns) - 1\n",
        "print(\"\\nBenchmark Buy-and-Hold Cumulative Return (Out-of-Sample):\", benchmark_cumulative_return)\n"
      ],
      "metadata": {
        "colab": {
          "base_uri": "https://localhost:8080/"
        },
        "id": "yncTlEb8x-yT",
        "outputId": "a89e14f7-dac0-4600-f939-1717f691b367"
      },
      "execution_count": null,
      "outputs": [
        {
          "output_type": "stream",
          "name": "stdout",
          "text": [
            "\n",
            "Benchmark Buy-and-Hold Cumulative Return (Out-of-Sample): 1.2947208330484359\n"
          ]
        }
      ]
    },
    {
      "cell_type": "code",
      "source": [
        "plt.figure(figsize=(12, 5))\n",
        "\n",
        "plt.subplot(1, 2, 1)\n",
        "plt.plot(list(results_tc.keys()), list(results_tc.values()), marker='o')\n",
        "plt.xlabel(\"Transaction Cost\")\n",
        "plt.ylabel(\"Total Reward\")\n",
        "plt.title(\"Transaction Cost Sensitivity\")\n",
        "\n",
        "plt.subplot(1, 2, 2)\n",
        "plt.plot(list(results_lev.keys()), list(results_lev.values()), marker='o')\n",
        "plt.xlabel(\"Leverage\")\n",
        "plt.ylabel(\"Total Reward\")\n",
        "plt.title(\"Leverage Sensitivity\")\n",
        "\n",
        "plt.tight_layout()\n",
        "plt.show()\n"
      ],
      "metadata": {
        "colab": {
          "base_uri": "https://localhost:8080/",
          "height": 507
        },
        "id": "BYoRVdcoc0qQ",
        "outputId": "5b2e7d46-cb01-4e36-9a04-fb3ef15fb871"
      },
      "execution_count": null,
      "outputs": [
        {
          "output_type": "display_data",
          "data": {
            "text/plain": [
              "<Figure size 1200x500 with 2 Axes>"
            ],
            "image/png": "[encoded data removed]"
          },
          "metadata": {}
        }
      ]
    },
    {
      "cell_type": "code",
      "source": [
        "import numpy as np\n",
        "import pandas as pd\n",
        "import matplotlib.pyplot as plt\n",
        "import yfinance as yf\n",
        "import gym\n",
        "from gym import spaces\n",
        "import random\n",
        "from collections import deque\n",
        "\n",
        "window_momentum = 5\n",
        "momentum_signal = []\n",
        "for i in range(window_momentum, len(test_prices)):\n",
        "    signal = 1 if test_prices[i] > test_prices[i - window_momentum] else -1\n",
        "    momentum_signal.append(signal)\n",
        "momentum_signal = np.array(momentum_signal)\n"
      ],
      "metadata": {
        "id": "xHhiIDYL0_Hs"
      },
      "execution_count": null,
      "outputs": []
    },
    {
      "cell_type": "code",
      "source": [
        "# (B) Mean-Reversion Signal:\n",
        "# Use a 10-day moving average; signal = -1 if current price is above the moving average (indicating overvaluation), else +1.\n",
        "test_prices = test_prices.flatten()\n",
        "moving_avg = pd.Series(test_prices).rolling(window=ma_window).mean().to_numpy()\n",
        "\n",
        "mean_reversion_signal = []\n",
        "for i in range(ma_window, len(test_prices)):\n",
        "    signal = -1 if test_prices[i] > moving_avg[i] else 1\n",
        "    mean_reversion_signal.append(signal)\n",
        "mean_reversion_signal = np.array(mean_reversion_signal)\n"
      ],
      "metadata": {
        "id": "ZIK0SNsq1AJD"
      },
      "execution_count": null,
      "outputs": []
    },
    {
      "cell_type": "code",
      "source": [],
      "metadata": {
        "id": "0jmOOSpn1FCj"
      },
      "execution_count": null,
      "outputs": []
    },
    {
      "cell_type": "code",
      "source": [
        "def simulate_agent_actions(env, agent):\n",
        "    state = env.reset()\n",
        "    actions = []\n",
        "    done = False\n",
        "    while not done:\n",
        "        action = agent.act(state)\n",
        "        actions.append(action)\n",
        "        state, reward, done, _ = env.step(action)\n",
        "    return np.array(actions)\n",
        "\n",
        "# Simulate and convert actions:\n",
        "# Agent actions: 0 = hold, 1 = long, 2 = short. We'll map these to signals: 1 for long, -1 for short, and 0 for hold.\n",
        "rl_actions = simulate_agent_actions(test_env, agent)\n",
        "rl_signal = np.where(rl_actions == 1, 1, np.where(rl_actions == 2, -1, 0))\n",
        "\n",
        "# Our test_returns length is: len(test_prices) - window - 1.\n",
        "# Momentum signal length: len(test_prices) - window_momentum.\n",
        "# Mean reversion length: len(test_prices) - ma_window.\n",
        "min_length = min(len(test_returns), len(momentum_signal), len(mean_reversion_signal), len(rl_signal))\n",
        "\n",
        "# Align each signal to the most recent min_length samples.\n",
        "test_returns_adj = test_returns[-min_length:]\n",
        "momentum_signal = momentum_signal[-min_length:]\n",
        "mean_reversion_signal = mean_reversion_signal[-min_length:]\n",
        "rl_signal = rl_signal[-min_length:]\n",
        "\n",
        "# For demonstration, use a simple majority vote: sum the signals and take the sign.\n",
        "# (If sum = 0, signal remains 0.)\n",
        "composite_signal = np.sign(rl_signal + momentum_signal + mean_reversion_signal)\n",
        "\n",
        "# Assume: if composite_signal == 1, strategy return = test_returns_adj; if composite_signal == -1, strategy return = -test_returns_adj; if 0, return 0.\n",
        "composite_returns = np.where(composite_signal == 1, test_returns_adj,\n",
        "                             np.where(composite_signal == -1, -test_returns_adj, 0))\n",
        "\n",
        "# Compute daily cumulative returns:\n",
        "daily_cumprod = np.cumprod(1 + composite_returns)\n",
        "cumulative_returns = daily_cumprod - 1\n",
        "\n",
        "def max_drawdown(cum_returns):\n",
        "    peaks = np.maximum.accumulate(cum_returns)\n",
        "    drawdowns = (cum_returns - peaks) / peaks\n",
        "    return np.min(drawdowns)\n",
        "\n",
        "def sharpe_ratio(returns, risk_free_rate=0.0):\n",
        "    # Annualize assuming 252 trading days.\n",
        "    excess_returns = returns - risk_free_rate / 252\n",
        "    return np.mean(excess_returns) / np.std(excess_returns) * np.sqrt(252)\n",
        "\n",
        "final_cum_return = cumulative_returns[-1]\n",
        "max_dd = max_drawdown(daily_cumprod)\n",
        "sharpe = sharpe_ratio(composite_returns)\n",
        "\n",
        "print(\"Composite Strategy Final Cumulative Return:\", final_cum_return)\n",
        "print(\"Composite Strategy Max Drawdown:\", max_dd)\n",
        "print(\"Composite Strategy Sharpe Ratio:\", sharpe)\n",
        "\n"
      ],
      "metadata": {
        "colab": {
          "base_uri": "https://localhost:8080/"
        },
        "id": "lbYwi2RXyFq9",
        "outputId": "742b0752-8e19-4361-f209-9c10af14a77b"
      },
      "execution_count": null,
      "outputs": [
        {
          "output_type": "stream",
          "name": "stdout",
          "text": [
            "Composite Strategy Final Cumulative Return: -1.0\n",
            "Composite Strategy Max Drawdown: -1.0\n",
            "Composite Strategy Sharpe Ratio: -0.46153606974585054\n"
          ]
        }
      ]
    },
    {
      "cell_type": "code",
      "source": [],
      "metadata": {
        "id": "O7OVFwwS1kng"
      },
      "execution_count": null,
      "outputs": []
    }
  ]
}